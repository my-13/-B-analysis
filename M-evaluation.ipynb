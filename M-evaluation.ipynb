{
 "cells": [
  {
   "cell_type": "code",
   "execution_count": 1,
   "metadata": {},
   "outputs": [],
   "source": [
    "# from personalized_analogous import run_analogous\n",
    "# times = run_analogous(1)"
   ]
  },
  {
   "cell_type": "code",
   "execution_count": 1,
   "metadata": {},
   "outputs": [
    {
     "name": "stdout",
     "output_type": "stream",
     "text": [
      "running  7  templates\n",
      "on  0\n",
      "on  10\n",
      "on  20\n",
      "on  30\n",
      "on  40\n",
      "on  50\n",
      "on  60\n",
      "on  70\n",
      "on  80\n",
      "on  90\n"
     ]
    }
   ],
   "source": [
    "from standardized import run_standardized\n",
    "run_standardized(7)"
   ]
  },
  {
   "cell_type": "code",
   "execution_count": 2,
   "metadata": {},
   "outputs": [
    {
     "name": "stdout",
     "output_type": "stream",
     "text": [
      "running  7  templates\n",
      "on  0\n"
     ]
    }
   ],
   "source": [
    "# from standardized import run_standardized\n",
    "run_standardized(7)"
   ]
  },
  {
   "cell_type": "markdown",
   "metadata": {},
   "source": [
    "# PERSONALIZED"
   ]
  },
  {
   "cell_type": "code",
   "execution_count": 1,
   "metadata": {},
   "outputs": [
    {
     "name": "stdout",
     "output_type": "stream",
     "text": [
      "running  8  templates\n",
      "on  0\n",
      "on  10\n",
      "on  20\n",
      "on  30\n",
      "on  40\n",
      "on  50\n",
      "on  60\n",
      "on  70\n",
      "on  80\n",
      "on  90\n"
     ]
    }
   ],
   "source": [
    "from personalized_analogous import run_personalized_analogous\n",
    "run_personalized_analogous(n_templates=8)"
   ]
  },
  {
   "cell_type": "code",
   "execution_count": 2,
   "metadata": {},
   "outputs": [
    {
     "name": "stdout",
     "output_type": "stream",
     "text": [
      "running  9  templates\n",
      "on  0\n",
      "on  10\n",
      "on  20\n",
      "on  30\n",
      "on  40\n",
      "on  50\n",
      "on  60\n",
      "on  70\n",
      "on  80\n",
      "on  90\n"
     ]
    }
   ],
   "source": [
    "run_personalized_analogous(n_templates=9)"
   ]
  },
  {
   "cell_type": "code",
   "execution_count": 4,
   "metadata": {},
   "outputs": [
    {
     "name": "stdout",
     "output_type": "stream",
     "text": [
      "running  5  templates\n",
      "on  0\n",
      "on  10\n",
      "on  20\n",
      "on  30\n",
      "on  40\n",
      "on  50\n",
      "on  60\n",
      "on  70\n",
      "on  80\n",
      "on  90\n"
     ]
    }
   ],
   "source": [
    "run_personalized_analogous(n_templates=5)"
   ]
  },
  {
   "cell_type": "markdown",
   "metadata": {},
   "source": [
    "# test stuff"
   ]
  },
  {
   "cell_type": "code",
   "execution_count": null,
   "metadata": {},
   "outputs": [],
   "source": [
    "# from globals import *\n",
    "# from algorithms1 import test_train_split,dollar_normal, dollar_rotate, vanillaNN_normal,vanillaNN_rotate,expert_normal,expert_rotate\n",
    "# def eval_personalized(n_templates):\n",
    "#     df_accuracy = pd.DataFrame()\n",
    "#     # data = []\n",
    "#     etype = 'experimenter-only'\n",
    "#     for pID in pIDs_personalized:\n",
    "#         # print(\"running \", pID)\n",
    "#         # test_dollar = dollar_normal(pID,etype,n_templates=n_templates)\n",
    "#         test_vanilla = vanillaNN_normal(pID,etype,n_templates=n_templates)\n",
    "#         # print(test_vanilla)\n",
    "#         # test_expert = expert_normal(pID,etype,n_templates=n_templates)\n",
    "\n",
    "#         accuracy = np.asarray([\n",
    "#                             # [test_vanilla,'vanillaNN'],\n",
    "#                             [test_dollar,'dollar'],\n",
    "#                             # [test_expert,'expert']\n",
    "#                             ])\n",
    "#         df_temp = pd.DataFrame(accuracy,columns=['test','algoType'])\n",
    "#         if pID[1]=='1':\n",
    "#             df_temp['ptype'] = 'disabled'\n",
    "#         else:\n",
    "#             df_temp['ptype'] = 'non-disabled'\n",
    "#         df_temp['pID'] = pID\n",
    "#         df_accuracy = df_accuracy.append(df_temp,ignore_index=True)\n",
    "#     # df_accuracy['train'] = df_accuracy.train.astype(float)\n",
    "#     df_accuracy['test'] = df_accuracy.test.astype(float)\n",
    "#     return df_accuracy\n",
    "\n",
    "# def eval_analogous():\n",
    "#     df_rotate_accuracy = pd.DataFrame()\n",
    "#     for pID in pIDs_analogous:\n",
    "#         # accuracies_dollar = dollar_rotate(pID)\n",
    "#         # accuracies_expert = expert_rotate(pID)\n",
    "#         accuracies_vanillaNN = vanillaNN_rotate(pID)\n",
    "\n",
    "#         accuracy = np.asarray([\n",
    "#                                 # [accuracies_vanillaNN[0],accuracies_vanillaNN[1],accuracies_vanillaNN[2],'vanillaNN'],\n",
    "#                                 # [accuracies_dollar[0],accuracies_dollar[1],accuracies_dollar[2],'dollar'],\n",
    "#                                 # [accuracies_expert[0],accuracies_expert[1],accuracies_expert[2],'expert']\n",
    "#                                 ])\n",
    "#     #     df_temp = pd.DataFrame(accuracy,columns=['normal','fast','large','algoType'])\n",
    "#     #     if pID[1]=='1':\n",
    "#     #         df_temp['ptype'] = 'disabled'\n",
    "#     #     else:\n",
    "#     #         df_temp['ptype'] = 'non-disabled'\n",
    "#     #     df_temp['pID'] = pID\n",
    "#     #     df_rotate_accuracy = df_rotate_accuracy.append(df_temp)\n",
    "#     # df_rotate_accuracy['normal'] = df_rotate_accuracy.normal.astype(float)\n",
    "#     # df_rotate_accuracy['fast'] = df_rotate_accuracy.fast.astype(float)\n",
    "#     # df_rotate_accuracy['large'] = df_rotate_accuracy.large.astype(float)\n",
    "#     # df_rotate_accuracy = pd.melt(df_rotate_accuracy,id_vars=[\"pID\",\"algoType\",\"ptype\"],var_name=\"type\",\n",
    "#     #                              value_name=\"test\",ignore_index=True)\n",
    "#     # return df_rotate_accuracy\n",
    "\n",
    "# def get_test_train_split(n_templates):\n",
    "#     etype = \"experimenter-only\"\n",
    "#     for pID in pIDs_personalized:\n",
    "#         experiment_types = pd.read_csv(temp_path[:-24]+'fnames/'+pID+'_fnames.csv',header=0,index_col=0)\n",
    "#         experiment_types = experiment_types.loc[experiment_types['etype']=='experimenter-defined']\n",
    "#         test_train_split(pID,experiment_types,etype=etype,n_templates=n_templates)\n",
    "\n",
    "#     # rotate\n",
    "#     etype = \"rotate\"\n",
    "#     for pID in pIDs_analogous:\n",
    "#         experiment_types = pd.read_csv(temp_path[:-24]+'fnames/'+pID+'_fnames.csv',header=0,index_col=0)\n",
    "#         experiment_types = experiment_types.loc[(experiment_types['etype']=='rehab') & (experiment_types['motion']!=\"endurance\")]\n",
    "#         test_train_split(pID,experiment_types,etype=etype,n_templates=n_templates)"
   ]
  },
  {
   "cell_type": "code",
   "execution_count": null,
   "metadata": {},
   "outputs": [],
   "source": [
    "# algoTypes = [\"dollar\",\"vanillaNN\",\"expert\"]\n",
    "# df_personalized = pd.DataFrame()\n",
    "# df_analogous = pd.DataFrame()\n",
    "# # template = 1 through 9\n",
    "\n",
    "# # ONLY DO IF TEMPLATE 1 IS ALREADY RUN\n",
    "# # df_personalized = pd.read_csv(models_path + 'personalized_results.csv',header=0)\n",
    "# # df_analogous = pd.read_csv(models_path + 'analogous_results.csv',header=0)\n",
    "# for n_templates in range(7,10):\n",
    "#     print(\"running \",n_templates, \" templates\")\n",
    "#     df_accuracy = pd.DataFrame()\n",
    "#     df_rotate = pd.DataFrame()\n",
    "#     t = time.time()\n",
    "#     for ix in range(2):\n",
    "#         # PERSONALIZED\n",
    "#         get_test_train_split(n_templates) \n",
    "#         temp = eval_personalized(n_templates)\n",
    "#         df_accuracy = df_accuracy.append(temp,ignore_index=True)\n",
    "#         display(df_accuracy.head())\n",
    "#         # ALSO RUN ANALOGOUS HERE USING THE EXISTING MODELS\n",
    "#         temp = eval_analogous()\n",
    "#         df_rotate = df_rotate.append(temp,ignore_index=True)\n",
    "#         # if ix % 10 == 0:\n",
    "#         #     print(\"on \", ix)\n",
    "\n",
    "#     # # # FOR PERSONALIZED \n",
    "#     # for pID in pIDs_personalized:\n",
    "#     #     for algoType in algoTypes:\n",
    "#     #         temp = df_accuracy.loc[(df_accuracy[\"pID\"]==pID) & (df_accuracy[\"algoType\"]==algoType)].reset_index()\n",
    "#     #         accuracy = np.asarray([[pID,algoType,n_templates,temp.train.mean(),temp.test.mean(),temp[\"ptype\"][0]]])\n",
    "#     #         df_temp = pd.DataFrame(accuracy,columns=['pID','algoType','nTemplates','train_mean','test_mean',\"ptype\"])\n",
    "#     #         df_personalized = df_personalized.append(df_temp,ignore_index=True)\n",
    "\n",
    "#     # # FOR ANALOGOUS \n",
    "#     # for pID in pIDs_analogous:\n",
    "#     #     for algoType in algoTypes:\n",
    "#     #         types = df_rotate[\"type\"].unique()\n",
    "#     #         for ty in types:\n",
    "#     #             temp = df_rotate.loc[(df_rotate[\"pID\"]==pID) & (df_rotate[\"algoType\"]==algoType) & \n",
    "#     #                                 (df_rotate[\"type\"]==ty)].reset_index()\n",
    "#     #             accuracy = np.asarray([[pID,algoType,ty,n_templates,temp.test.mean(),temp[\"ptype\"][0]]])\n",
    "#     #             df_temp = pd.DataFrame(accuracy,columns=['pID','algoType','gestureType','nTemplates','test_mean',\"ptype\"])\n",
    "#     #             df_analogous = df_analogous.append(df_temp,ignore_index=True)\n",
    "#     # del df_rotate,df_accuracy\n",
    "#     # gc.collect()\n",
    "#     # SAVE THE CVS TEMPORARILY\n",
    "#     print(\"for num templates \", n_templates, \"time elapsed is \", time.time() - t)\n",
    "#     # break;\n",
    "\n",
    "# # convert str to float\n",
    "# df_analogous['test_mean'] = df_analogous.test_mean.astype(float)\n",
    "# df_personalized['test_mean'] = df_personalized.test_mean.astype(float)\n",
    "\n",
    "# # SAVE THE CVS\n",
    "# # df_personalized.to_csv(models_path + 'personalized_results.csv',index=False)\n",
    "# # df_analogous.to_csv(models_path + 'analogous_results.csv',index=False)"
   ]
  },
  {
   "cell_type": "markdown",
   "metadata": {},
   "source": [
    "# plotting personalized and analogous"
   ]
  },
  {
   "cell_type": "code",
   "execution_count": null,
   "metadata": {},
   "outputs": [],
   "source": [
    "import globals\n",
    "df_personalized = pd.read_csv(models_path + 'personalized_results.csv',header=0)\n",
    "df_analogous = pd.read_csv(models_path + 'analogous_results.csv',header=0)"
   ]
  },
  {
   "cell_type": "code",
   "execution_count": null,
   "metadata": {},
   "outputs": [],
   "source": [
    "type(df_personalized['test_mean'][0])"
   ]
  },
  {
   "cell_type": "code",
   "execution_count": null,
   "metadata": {},
   "outputs": [],
   "source": [
    "sns.barplot(data=df_analogous,x=\"algoType\",y=\"test_mean\",hue=\"gestureType\")"
   ]
  },
  {
   "cell_type": "code",
   "execution_count": null,
   "metadata": {},
   "outputs": [],
   "source": [
    "df_personalized['test_mean'] = df_personalized.test_mean.astype(float)\n",
    "sns.barplot(data=df_personalized,x=\"algoType\",y=\"test_mean\",hue=\"nTemplates\")"
   ]
  },
  {
   "cell_type": "code",
   "execution_count": null,
   "metadata": {},
   "outputs": [],
   "source": [
    "# import shutil\n",
    "# try:\n",
    "#     with open('data/participants.pickle', 'rb') as handle:\n",
    "#         _, pIDs_personalized,pIDs_standardized,pIDs_analogous,pIDs_all = pickle.load(handle)\n",
    "# except:\n",
    "#     print(\"Was not able to open the participant IDs\")\n",
    "#     pass;\n",
    "\n",
    "# p = models_path\n",
    "# for pID in pIDs_all:\n",
    "#     folders = glob.glob(p+pID+\"/rotate/\")[0]\n",
    "#     shutil.rmtree(folders)\n",
    "#     # for folder in folders:\n",
    "#     #     f = folder.split(\"\\\\\")[-1]\n",
    "#     #     if f==\"vanillaNN_files\":# or f ==\"rotate\":\n",
    "#     #         shutil.rmtree(folder)\n",
    "#     #     else:\n",
    "#     #         pass;\n"
   ]
  },
  {
   "cell_type": "code",
   "execution_count": null,
   "metadata": {},
   "outputs": [],
   "source": []
  }
 ],
 "metadata": {
  "kernelspec": {
   "display_name": "base",
   "language": "python",
   "name": "python3"
  },
  "language_info": {
   "codemirror_mode": {
    "name": "ipython",
    "version": 3
   },
   "file_extension": ".py",
   "mimetype": "text/x-python",
   "name": "python",
   "nbconvert_exporter": "python",
   "pygments_lexer": "ipython3",
   "version": "3.8.8"
  }
 },
 "nbformat": 4,
 "nbformat_minor": 2
}
