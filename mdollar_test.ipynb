{
 "cells": [
  {
   "cell_type": "code",
   "execution_count": 1,
   "metadata": {},
   "outputs": [
    {
     "name": "stdout",
     "output_type": "stream",
     "text": [
      "running  3  templates\n",
      "on  0\n",
      "on  10\n",
      "on  20\n",
      "on  30\n",
      "on  40\n",
      "on  50\n",
      "on  60\n",
      "on  70\n",
      "on  80\n",
      "on  90\n"
     ]
    }
   ],
   "source": [
    "from standardized import run_standardized\n",
    "run_standardized(3)"
   ]
  },
  {
   "cell_type": "code",
   "execution_count": null,
   "metadata": {},
   "outputs": [
    {
     "name": "stdout",
     "output_type": "stream",
     "text": [
      "running  4  templates\n",
      "on  0\n",
      "on  10\n",
      "on  20\n",
      "on  30\n",
      "on  40\n",
      "on  50\n",
      "on  60\n",
      "on  70\n",
      "on  80\n",
      "on  90\n"
     ]
    }
   ],
   "source": [
    "from personalized_analogous import run_personalized_analogous\n",
    "run_personalized_analogous(n_templates=4)"
   ]
  },
  {
   "cell_type": "code",
   "execution_count": 2,
   "metadata": {},
   "outputs": [
    {
     "name": "stdout",
     "output_type": "stream",
     "text": [
      "running  6  templates\n",
      "on  0\n",
      "on  10\n",
      "on  20\n",
      "on  30\n",
      "on  40\n",
      "on  50\n",
      "on  60\n",
      "on  70\n",
      "on  80\n",
      "on  90\n"
     ]
    }
   ],
   "source": [
    "run_personalized_analogous(n_templates=6)"
   ]
  },
  {
   "cell_type": "code",
   "execution_count": 1,
   "metadata": {},
   "outputs": [
    {
     "name": "stdout",
     "output_type": "stream",
     "text": [
      "running  8  templates\n",
      "on  0\n",
      "on  10\n",
      "on  20\n",
      "on  30\n",
      "on  40\n",
      "on  50\n",
      "on  60\n",
      "on  70\n",
      "on  80\n",
      "on  90\n"
     ]
    }
   ],
   "source": [
    "from personalized_analogous import run_personalized_analogous\n",
    "run_personalized_analogous(n_templates=8)"
   ]
  },
  {
   "cell_type": "code",
   "execution_count": 14,
   "metadata": {},
   "outputs": [
    {
     "name": "stdout",
     "output_type": "stream",
     "text": [
      "[5.432, 7.5222, 10.153]\n"
     ]
    },
    {
     "data": {
      "text/plain": [
       "3"
      ]
     },
     "execution_count": 14,
     "metadata": {},
     "output_type": "execute_result"
    }
   ],
   "source": [
    "import numpy as np\n",
    "temp_list = {\"gesture1\": 10.153, \"gesture2\": 5.432}\n",
    "temp_list[\"gesture3\"] = 7.5222\n",
    "distance = temp_list.get(\"gesture1\")\n",
    "distances = sorted(list(temp_list.values()))\n",
    "print(distances)\n",
    "distances.index(distance) +1"
   ]
  },
  {
   "cell_type": "markdown",
   "metadata": {},
   "source": [
    "## split test-train"
   ]
  },
  {
   "cell_type": "code",
   "execution_count": 2,
   "metadata": {},
   "outputs": [],
   "source": [
    "# experimenter-only\n",
    "n_templates = 3\n",
    "etype = \"experimenter-only\"\n",
    "for pID in pIDs_personalized:\n",
    "    # print('running ',pID)\n",
    "    experiment_types = pd.read_csv(temp_path[:-24]+'fnames/'+pID+'_fnames.csv',header=0,index_col=0)\n",
    "    experiment_types = experiment_types.loc[experiment_types['etype']=='experimenter-defined']\n",
    "    test_train_split(pID,experiment_types,etype=etype,n_templates=n_templates)\n",
    "# rotate\n",
    "n_templates = 3\n",
    "etype = \"rotate\"\n",
    "for pID in pIDs_analogous:\n",
    "    # print('running ',pID)\n",
    "    experiment_types = pd.read_csv(temp_path[:-24]+'fnames/'+pID+'_fnames.csv',header=0,index_col=0)\n",
    "    experiment_types = experiment_types.loc[(experiment_types['etype']=='rehab') & (experiment_types['motion']!=\"endurance\")]\n",
    "    test_train_split(pID,experiment_types,etype=etype,n_templates=n_templates)"
   ]
  },
  {
   "cell_type": "markdown",
   "metadata": {},
   "source": [
    "## run normal"
   ]
  },
  {
   "cell_type": "code",
   "execution_count": 3,
   "metadata": {},
   "outputs": [
    {
     "name": "stdout",
     "output_type": "stream",
     "text": [
      "running  P001\n",
      "D:\\Research\\2024_UIST_dataset\\upload\\segmented_filtered_data\\P001\\movavg_files/234726104702_P001_experimenter-defined_EMG_select-single_5_movavg.csv\n",
      "D:\\Research\\2024_UIST_dataset\\upload\\segmented_filtered_data\\P001\\movavg_files/234726104707_P001_experimenter-defined_EMG_select-single_6_movavg.csv\n",
      "D:\\Research\\2024_UIST_dataset\\upload\\segmented_filtered_data\\P001\\movavg_files/234726104723_P001_experimenter-defined_EMG_select-single_10_movavg.csv\n",
      "D:\\Research\\2024_UIST_dataset\\upload\\segmented_filtered_data\\P001\\movavg_files/234826104829_P001_experimenter-defined_EMG_pan_2_movavg.csv\n",
      "D:\\Research\\2024_UIST_dataset\\upload\\segmented_filtered_data\\P001\\movavg_files/234826104833_P001_experimenter-defined_EMG_pan_3_movavg.csv\n",
      "D:\\Research\\2024_UIST_dataset\\upload\\segmented_filtered_data\\P001\\movavg_files/234826104848_P001_experimenter-defined_EMG_pan_7_movavg.csv\n",
      "D:\\Research\\2024_UIST_dataset\\upload\\segmented_filtered_data\\P001\\movavg_files/235126105104_P001_experimenter-defined_EMG_move_1_movavg.csv\n",
      "D:\\Research\\2024_UIST_dataset\\upload\\segmented_filtered_data\\P001\\movavg_files/235126105130_P001_experimenter-defined_EMG_move_7_movavg.csv\n",
      "D:\\Research\\2024_UIST_dataset\\upload\\segmented_filtered_data\\P001\\movavg_files/235126105135_P001_experimenter-defined_EMG_move_8_movavg.csv\n",
      "D:\\Research\\2024_UIST_dataset\\upload\\segmented_filtered_data\\P001\\movavg_files/235226105217_P001_experimenter-defined_EMG_shrink_2_movavg.csv\n",
      "D:\\Research\\2024_UIST_dataset\\upload\\segmented_filtered_data\\P001\\movavg_files/235226105224_P001_experimenter-defined_EMG_shrink_4_movavg.csv\n",
      "D:\\Research\\2024_UIST_dataset\\upload\\segmented_filtered_data\\P001\\movavg_files/235226105234_P001_experimenter-defined_EMG_shrink_7_movavg.csv\n",
      "D:\\Research\\2024_UIST_dataset\\upload\\segmented_filtered_data\\P001\\movavg_files/235326105318_P001_experimenter-defined_EMG_zoom-in_4_movavg.csv\n",
      "D:\\Research\\2024_UIST_dataset\\upload\\segmented_filtered_data\\P001\\movavg_files/235326105325_P001_experimenter-defined_EMG_zoom-in_6_movavg.csv\n",
      "D:\\Research\\2024_UIST_dataset\\upload\\segmented_filtered_data\\P001\\movavg_files/235326105335_P001_experimenter-defined_EMG_zoom-in_9_movavg.csv\n",
      "D:\\Research\\2024_UIST_dataset\\upload\\segmented_filtered_data\\P001\\movavg_files/235426105445_P001_experimenter-defined_EMG_enlarge_2_movavg.csv\n",
      "D:\\Research\\2024_UIST_dataset\\upload\\segmented_filtered_data\\P001\\movavg_files/235426105454_P001_experimenter-defined_EMG_enlarge_4_movavg.csv\n",
      "D:\\Research\\2024_UIST_dataset\\upload\\segmented_filtered_data\\P001\\movavg_files/235426105459_P001_experimenter-defined_EMG_enlarge_5_movavg.csv\n",
      "D:\\Research\\2024_UIST_dataset\\upload\\segmented_filtered_data\\P001\\movavg_files/235626105635_P001_experimenter-defined_EMG_close_4_movavg.csv\n",
      "D:\\Research\\2024_UIST_dataset\\upload\\segmented_filtered_data\\P001\\movavg_files/235626105649_P001_experimenter-defined_EMG_close_8_movavg.csv\n",
      "D:\\Research\\2024_UIST_dataset\\upload\\segmented_filtered_data\\P001\\movavg_files/235626105652_P001_experimenter-defined_EMG_close_9_movavg.csv\n",
      "D:\\Research\\2024_UIST_dataset\\upload\\segmented_filtered_data\\P001\\movavg_files/235726105744_P001_experimenter-defined_EMG_rotate_7_movavg.csv\n",
      "D:\\Research\\2024_UIST_dataset\\upload\\segmented_filtered_data\\P001\\movavg_files/235726105747_P001_experimenter-defined_EMG_rotate_8_movavg.csv\n",
      "D:\\Research\\2024_UIST_dataset\\upload\\segmented_filtered_data\\P001\\movavg_files/235726105750_P001_experimenter-defined_EMG_rotate_9_movavg.csv\n",
      "D:\\Research\\2024_UIST_dataset\\upload\\segmented_filtered_data\\P001\\movavg_files/235926105907_P001_experimenter-defined_EMG_zoom-out_2_movavg.csv\n",
      "D:\\Research\\2024_UIST_dataset\\upload\\segmented_filtered_data\\P001\\movavg_files/235926105926_P001_experimenter-defined_EMG_zoom-out_8_movavg.csv\n",
      "D:\\Research\\2024_UIST_dataset\\upload\\segmented_filtered_data\\P001\\movavg_files/235926105929_P001_experimenter-defined_EMG_zoom-out_9_movavg.csv\n",
      "D:\\Research\\2024_UIST_dataset\\upload\\segmented_filtered_data\\P001\\movavg_files/230026110020_P001_experimenter-defined_EMG_delete_2_movavg.csv\n",
      "D:\\Research\\2024_UIST_dataset\\upload\\segmented_filtered_data\\P001\\movavg_files/230026110035_P001_experimenter-defined_EMG_delete_6_movavg.csv\n",
      "D:\\Research\\2024_UIST_dataset\\upload\\segmented_filtered_data\\P001\\movavg_files/230026110043_P001_experimenter-defined_EMG_delete_8_movavg.csv\n"
     ]
    },
    {
     "ename": "KeyboardInterrupt",
     "evalue": "",
     "output_type": "error",
     "traceback": [
      "\u001b[1;31m---------------------------------------------------------------------------\u001b[0m",
      "\u001b[1;31mKeyboardInterrupt\u001b[0m                         Traceback (most recent call last)",
      "\u001b[1;32m<ipython-input-3-f565cc0ad7db>\u001b[0m in \u001b[0;36m<module>\u001b[1;34m\u001b[0m\n\u001b[0;32m      3\u001b[0m \u001b[1;32mfor\u001b[0m \u001b[0mpID\u001b[0m \u001b[1;32min\u001b[0m \u001b[0mpIDs_personalized\u001b[0m\u001b[1;33m:\u001b[0m\u001b[1;33m\u001b[0m\u001b[1;33m\u001b[0m\u001b[0m\n\u001b[0;32m      4\u001b[0m     \u001b[0mprint\u001b[0m\u001b[1;33m(\u001b[0m\u001b[1;34m'running '\u001b[0m\u001b[1;33m,\u001b[0m\u001b[0mpID\u001b[0m\u001b[1;33m)\u001b[0m\u001b[1;33m\u001b[0m\u001b[1;33m\u001b[0m\u001b[0m\n\u001b[1;32m----> 5\u001b[1;33m     \u001b[0mtrain_dollar\u001b[0m\u001b[1;33m,\u001b[0m\u001b[0mtest_dollar\u001b[0m \u001b[1;33m=\u001b[0m \u001b[0mdollar_normal\u001b[0m\u001b[1;33m(\u001b[0m\u001b[0mpID\u001b[0m\u001b[1;33m,\u001b[0m\u001b[0metype\u001b[0m\u001b[1;33m,\u001b[0m\u001b[0mn_templates\u001b[0m\u001b[1;33m=\u001b[0m\u001b[1;36m3\u001b[0m\u001b[1;33m)\u001b[0m\u001b[1;33m\u001b[0m\u001b[1;33m\u001b[0m\u001b[0m\n\u001b[0m\u001b[0;32m      6\u001b[0m     accuracy = np.asarray([\n\u001b[0;32m      7\u001b[0m                         \u001b[1;31m# [train_vanilla[1],test_vanilla[1],'vanillaNN'],\u001b[0m\u001b[1;33m\u001b[0m\u001b[1;33m\u001b[0m\u001b[1;33m\u001b[0m\u001b[0m\n",
      "\u001b[1;32md:\\Research\\biosignals-gesture-analysis\\2024_UIST_CodeOcean\\algorithms1.py\u001b[0m in \u001b[0;36mdollar_normal\u001b[1;34m(pID, etype, n_templates)\u001b[0m\n\u001b[0;32m    101\u001b[0m     test_data = pd.read_csv(classifier_save+\"data_location_testing.csv\",\n\u001b[0;32m    102\u001b[0m                                     header=0)\n\u001b[1;32m--> 103\u001b[1;33m     \u001b[0mtemplates\u001b[0m\u001b[1;33m,\u001b[0m\u001b[0mtest_data\u001b[0m\u001b[1;33m,\u001b[0m\u001b[0mdoll\u001b[0m\u001b[1;33m,\u001b[0m\u001b[0mtrain_accuracy\u001b[0m\u001b[1;33m,\u001b[0m\u001b[0mtest_accuracy\u001b[0m \u001b[1;33m=\u001b[0m \u001b[0mdollar\u001b[0m\u001b[1;33m(\u001b[0m\u001b[0mtemplates\u001b[0m\u001b[1;33m,\u001b[0m\u001b[0mtest_data\u001b[0m\u001b[1;33m)\u001b[0m\u001b[1;33m\u001b[0m\u001b[1;33m\u001b[0m\u001b[0m\n\u001b[0m\u001b[0;32m    104\u001b[0m     \u001b[0mprint\u001b[0m\u001b[1;33m(\u001b[0m\u001b[1;34m\"dollar \"\u001b[0m\u001b[1;33m,\u001b[0m\u001b[0mpID\u001b[0m\u001b[1;33m,\u001b[0m\u001b[1;34m\"train-test accuracy: \"\u001b[0m\u001b[1;33m,\u001b[0m \u001b[0mtrain_accuracy\u001b[0m\u001b[1;33m,\u001b[0m\u001b[0mtest_accuracy\u001b[0m\u001b[1;33m)\u001b[0m\u001b[1;33m\u001b[0m\u001b[1;33m\u001b[0m\u001b[0m\n\u001b[0;32m    105\u001b[0m     \u001b[0mtest_data\u001b[0m\u001b[1;33m.\u001b[0m\u001b[0mto_csv\u001b[0m\u001b[1;33m(\u001b[0m\u001b[0mclassifier_save\u001b[0m \u001b[1;33m+\u001b[0m \u001b[1;34m'dollar_test_classifications.csv'\u001b[0m\u001b[1;33m)\u001b[0m\u001b[1;33m\u001b[0m\u001b[1;33m\u001b[0m\u001b[0m\n",
      "\u001b[1;32md:\\Research\\biosignals-gesture-analysis\\2024_UIST_CodeOcean\\algorithms1.py\u001b[0m in \u001b[0;36mdollar\u001b[1;34m(templates, test_data)\u001b[0m\n\u001b[0;32m     84\u001b[0m         \u001b[0mEMG\u001b[0m \u001b[1;33m=\u001b[0m \u001b[0mpd\u001b[0m\u001b[1;33m.\u001b[0m\u001b[0mread_csv\u001b[0m\u001b[1;33m(\u001b[0m\u001b[0mspath_EMG\u001b[0m\u001b[1;33m+\u001b[0m\u001b[0mfname_EMG\u001b[0m\u001b[1;33m,\u001b[0m\u001b[0mheader\u001b[0m\u001b[1;33m=\u001b[0m\u001b[1;36m0\u001b[0m\u001b[1;33m,\u001b[0m\u001b[0mindex_col\u001b[0m\u001b[1;33m=\u001b[0m\u001b[1;36m0\u001b[0m\u001b[1;33m)\u001b[0m\u001b[1;33m.\u001b[0m\u001b[0mvalues\u001b[0m\u001b[1;33m.\u001b[0m\u001b[0mT\u001b[0m\u001b[1;33m.\u001b[0m\u001b[0mtolist\u001b[0m\u001b[1;33m(\u001b[0m\u001b[1;33m)\u001b[0m\u001b[1;33m\u001b[0m\u001b[1;33m\u001b[0m\u001b[0m\n\u001b[0;32m     85\u001b[0m         \u001b[0mIMU\u001b[0m \u001b[1;33m=\u001b[0m \u001b[0mpd\u001b[0m\u001b[1;33m.\u001b[0m\u001b[0mread_csv\u001b[0m\u001b[1;33m(\u001b[0m\u001b[0mspath_IMU\u001b[0m\u001b[1;33m+\u001b[0m\u001b[0mfname_IMU\u001b[0m\u001b[1;33m,\u001b[0m\u001b[0mheader\u001b[0m\u001b[1;33m=\u001b[0m\u001b[1;36m0\u001b[0m\u001b[1;33m,\u001b[0m\u001b[0mindex_col\u001b[0m\u001b[1;33m=\u001b[0m\u001b[1;36m0\u001b[0m\u001b[1;33m)\u001b[0m\u001b[1;33m.\u001b[0m\u001b[0mvalues\u001b[0m\u001b[1;33m.\u001b[0m\u001b[0mT\u001b[0m\u001b[1;33m.\u001b[0m\u001b[0mtolist\u001b[0m\u001b[1;33m(\u001b[0m\u001b[1;33m)\u001b[0m\u001b[1;33m\u001b[0m\u001b[1;33m\u001b[0m\u001b[0m\n\u001b[1;32m---> 86\u001b[1;33m         \u001b[0mtest_data\u001b[0m\u001b[1;33m.\u001b[0m\u001b[0mloc\u001b[0m\u001b[1;33m[\u001b[0m\u001b[0mt\u001b[0m\u001b[1;33m,\u001b[0m\u001b[1;34m'classified_motion'\u001b[0m\u001b[1;33m]\u001b[0m \u001b[1;33m=\u001b[0m \u001b[0mmdoll\u001b[0m\u001b[1;33m.\u001b[0m\u001b[0mget_gesture\u001b[0m\u001b[1;33m(\u001b[0m\u001b[1;33m[\u001b[0m\u001b[0mdeepcopy\u001b[0m\u001b[1;33m(\u001b[0m\u001b[0mEMG\u001b[0m\u001b[1;33m)\u001b[0m\u001b[1;33m,\u001b[0m\u001b[0mdeepcopy\u001b[0m\u001b[1;33m(\u001b[0m\u001b[0mIMU\u001b[0m\u001b[1;33m)\u001b[0m\u001b[1;33m]\u001b[0m\u001b[1;33m)\u001b[0m\u001b[1;33m\u001b[0m\u001b[1;33m\u001b[0m\u001b[0m\n\u001b[0m\u001b[0;32m     87\u001b[0m         \u001b[1;32mdel\u001b[0m \u001b[0mEMG\u001b[0m\u001b[1;33m,\u001b[0m \u001b[0mIMU\u001b[0m\u001b[1;33m\u001b[0m\u001b[1;33m\u001b[0m\u001b[0m\n\u001b[0;32m     88\u001b[0m         \u001b[0mgc\u001b[0m\u001b[1;33m.\u001b[0m\u001b[0mcollect\u001b[0m\u001b[1;33m(\u001b[0m\u001b[1;33m)\u001b[0m\u001b[1;33m\u001b[0m\u001b[1;33m\u001b[0m\u001b[0m\n",
      "\u001b[1;32md:\\Research\\biosignals-gesture-analysis\\2024_UIST_CodeOcean\\mdollar.py\u001b[0m in \u001b[0;36mget_gesture\u001b[1;34m(self, points)\u001b[0m\n\u001b[0;32m     84\u001b[0m             \u001b[1;31m#     template_stroke.transformed_biosignals = np.asarray(template_stroke.biosignals[0]+template_stroke.biosignals[1]).T\u001b[0m\u001b[1;33m\u001b[0m\u001b[1;33m\u001b[0m\u001b[1;33m\u001b[0m\u001b[0m\n\u001b[0;32m     85\u001b[0m             \u001b[1;31m#     stroke.transformed_biosignals = np.asarray(stroke.biosignals[0]+stroke.biosignals[1]).T\u001b[0m\u001b[1;33m\u001b[0m\u001b[1;33m\u001b[0m\u001b[1;33m\u001b[0m\u001b[0m\n\u001b[1;32m---> 86\u001b[1;33m             \u001b[0mstroke\u001b[0m\u001b[1;33m.\u001b[0m\u001b[0mapply_pca\u001b[0m\u001b[1;33m(\u001b[0m\u001b[0mN_PC\u001b[0m\u001b[1;33m=\u001b[0m\u001b[0mN_PC\u001b[0m\u001b[1;33m,\u001b[0m\u001b[0mpca\u001b[0m\u001b[1;33m=\u001b[0m\u001b[0mtemplate_stroke\u001b[0m\u001b[1;33m.\u001b[0m\u001b[0mpca\u001b[0m\u001b[1;33m)\u001b[0m\u001b[1;33m\u001b[0m\u001b[1;33m\u001b[0m\u001b[0m\n\u001b[0m\u001b[0;32m     87\u001b[0m \u001b[1;33m\u001b[0m\u001b[0m\n\u001b[0;32m     88\u001b[0m             \u001b[1;31m# flatten the biosignal which is now time (64) x # PCs\u001b[0m\u001b[1;33m\u001b[0m\u001b[1;33m\u001b[0m\u001b[1;33m\u001b[0m\u001b[0m\n",
      "\u001b[1;32md:\\Research\\biosignals-gesture-analysis\\2024_UIST_CodeOcean\\mdollar.py\u001b[0m in \u001b[0;36mapply_pca\u001b[1;34m(self, N_PC, pca)\u001b[0m\n\u001b[0;32m    203\u001b[0m \u001b[1;33m\u001b[0m\u001b[0m\n\u001b[0;32m    204\u001b[0m         \u001b[1;31m# ( 64 x 88 ) x ( 88 x 50 )\u001b[0m\u001b[1;33m\u001b[0m\u001b[1;33m\u001b[0m\u001b[1;33m\u001b[0m\u001b[0m\n\u001b[1;32m--> 205\u001b[1;33m         \u001b[0mself\u001b[0m\u001b[1;33m.\u001b[0m\u001b[0mtransformed_biosignals\u001b[0m \u001b[1;33m=\u001b[0m \u001b[0mnp\u001b[0m\u001b[1;33m.\u001b[0m\u001b[0mmatmul\u001b[0m\u001b[1;33m(\u001b[0m\u001b[0mnp\u001b[0m\u001b[1;33m.\u001b[0m\u001b[0masarray\u001b[0m\u001b[1;33m(\u001b[0m\u001b[0mpoints\u001b[0m\u001b[1;33m)\u001b[0m\u001b[1;33m.\u001b[0m\u001b[0mT\u001b[0m\u001b[1;33m,\u001b[0m \u001b[0mpca\u001b[0m\u001b[1;33m)\u001b[0m\u001b[1;33m\u001b[0m\u001b[1;33m\u001b[0m\u001b[0m\n\u001b[0m\u001b[0;32m    206\u001b[0m         \u001b[1;32mreturn\u001b[0m \u001b[0mpca\u001b[0m\u001b[1;33m\u001b[0m\u001b[1;33m\u001b[0m\u001b[0m\n\u001b[0;32m    207\u001b[0m \u001b[1;33m\u001b[0m\u001b[0m\n",
      "\u001b[1;31mKeyboardInterrupt\u001b[0m: "
     ]
    }
   ],
   "source": [
    "df_accuracy = pd.DataFrame()\n",
    "etype = 'experimenter-only'\n",
    "for pID in pIDs_personalized:\n",
    "    print('running ',pID)\n",
    "    # train_dollar,test_dollar = dollar_normal(pID,etype,n_templates=3)\n",
    "    \n",
    "    accuracy = np.asarray([\n",
    "                        [train_vanilla[1],test_vanilla[1],'vanillaNN'],\n",
    "                        # [train_dollar,test_dollar,'dollar'],\n",
    "                        # [train_expert,test_expert,'expert']\n",
    "                        ])\n",
    "    df_temp = pd.DataFrame(accuracy,columns=['train','test','algoType'])\n",
    "    if pID[1]=='1':\n",
    "        df_temp['ptype'] = 'disabled'\n",
    "    else:\n",
    "        df_temp['ptype'] = 'non-disabled'\n",
    "    df_temp['pID'] = pID\n",
    "    df_accuracy = df_accuracy.append(df_temp)\n",
    "df_accuracy['train'] = df_accuracy.train.astype(float)\n",
    "df_accuracy['test'] = df_accuracy.test.astype(float)\n",
    "df_accuracy.to_csv('data/algos_accuracy_3.csv')"
   ]
  },
  {
   "cell_type": "code",
   "execution_count": null,
   "metadata": {},
   "outputs": [
    {
     "data": {
      "text/html": [
       "<div>\n",
       "<style scoped>\n",
       "    .dataframe tbody tr th:only-of-type {\n",
       "        vertical-align: middle;\n",
       "    }\n",
       "\n",
       "    .dataframe tbody tr th {\n",
       "        vertical-align: top;\n",
       "    }\n",
       "\n",
       "    .dataframe thead th {\n",
       "        text-align: right;\n",
       "    }\n",
       "</style>\n",
       "<table border=\"1\" class=\"dataframe\">\n",
       "  <thead>\n",
       "    <tr style=\"text-align: right;\">\n",
       "      <th></th>\n",
       "      <th>train</th>\n",
       "      <th>test</th>\n",
       "      <th>algoType</th>\n",
       "      <th>ptype</th>\n",
       "      <th>pID</th>\n",
       "    </tr>\n",
       "  </thead>\n",
       "  <tbody>\n",
       "    <tr>\n",
       "      <th>0</th>\n",
       "      <td>1.0</td>\n",
       "      <td>0.828571</td>\n",
       "      <td>dollar</td>\n",
       "      <td>non-disabled</td>\n",
       "      <td>P001</td>\n",
       "    </tr>\n",
       "    <tr>\n",
       "      <th>0</th>\n",
       "      <td>1.0</td>\n",
       "      <td>1.000000</td>\n",
       "      <td>dollar</td>\n",
       "      <td>non-disabled</td>\n",
       "      <td>P003</td>\n",
       "    </tr>\n",
       "    <tr>\n",
       "      <th>0</th>\n",
       "      <td>1.0</td>\n",
       "      <td>1.000000</td>\n",
       "      <td>dollar</td>\n",
       "      <td>non-disabled</td>\n",
       "      <td>P004</td>\n",
       "    </tr>\n",
       "    <tr>\n",
       "      <th>0</th>\n",
       "      <td>1.0</td>\n",
       "      <td>0.814286</td>\n",
       "      <td>dollar</td>\n",
       "      <td>non-disabled</td>\n",
       "      <td>P005</td>\n",
       "    </tr>\n",
       "    <tr>\n",
       "      <th>0</th>\n",
       "      <td>1.0</td>\n",
       "      <td>0.871429</td>\n",
       "      <td>dollar</td>\n",
       "      <td>non-disabled</td>\n",
       "      <td>P006</td>\n",
       "    </tr>\n",
       "  </tbody>\n",
       "</table>\n",
       "</div>"
      ],
      "text/plain": [
       "   train      test algoType         ptype   pID\n",
       "0    1.0  0.828571   dollar  non-disabled  P001\n",
       "0    1.0  1.000000   dollar  non-disabled  P003\n",
       "0    1.0  1.000000   dollar  non-disabled  P004\n",
       "0    1.0  0.814286   dollar  non-disabled  P005\n",
       "0    1.0  0.871429   dollar  non-disabled  P006"
      ]
     },
     "execution_count": 6,
     "metadata": {},
     "output_type": "execute_result"
    }
   ],
   "source": [
    "df_accuracy.head()"
   ]
  },
  {
   "cell_type": "code",
   "execution_count": null,
   "metadata": {},
   "outputs": [
    {
     "name": "stdout",
     "output_type": "stream",
     "text": [
      "non-disabled Unnamed: 0    0.000\n",
      "train         1.000\n",
      "test          0.875\n",
      "dtype: float64\n",
      "disabled Unnamed: 0    0.00000\n",
      "train         1.00000\n",
      "test          0.88956\n",
      "dtype: float64\n"
     ]
    },
    {
     "data": {
      "image/png": "[encoded data removed]",
      "text/plain": [
       "<Figure size 432x288 with 1 Axes>"
      ]
     },
     "metadata": {
      "needs_background": "light"
     },
     "output_type": "display_data"
    }
   ],
   "source": [
    "# df_accuracy.to_csv('data/algos_accuracy_3.csv')\n",
    "df_accuracy = pd.read_csv('data/algos_accuracy_3.csv')\n",
    "sns.boxplot(data=df_accuracy,x=\"algoType\",y=\"test\",hue=\"ptype\",hue_order=['disabled','non-disabled'])\n",
    "\n",
    "plt.title('baseline test accuracy')\n",
    "plt.ylabel('accuracy')\n",
    "for x in [\"non-disabled\",\"disabled\"]:\n",
    "    print(x,df_accuracy[df_accuracy[\"ptype\"]==x].mean())"
   ]
  },
  {
   "cell_type": "markdown",
   "metadata": {},
   "source": [
    "## run rotate"
   ]
  },
  {
   "cell_type": "code",
   "execution_count": null,
   "metadata": {},
   "outputs": [
    {
     "name": "stdout",
     "output_type": "stream",
     "text": [
      "running  P001\n",
      "dollar  P001 overall,normal,fast,large accuracy:  0.95 1.0 0.9 1.0\n",
      "running  P003\n",
      "dollar  P003 overall,normal,fast,large accuracy:  1.0 1.0 1.0 1.0\n",
      "running  P004\n",
      "dollar  P004 overall,normal,fast,large accuracy:  1.0 1.0 1.0 1.0\n",
      "running  P005\n",
      "dollar  P005 overall,normal,fast,large accuracy:  1.0 1.0 1.0 1.0\n",
      "running  P006\n",
      "dollar  P006 overall,normal,fast,large accuracy:  0.39999999999999997 1.0 0.7 0.1\n",
      "running  P008\n",
      "dollar  P008 overall,normal,fast,large accuracy:  1.0 1.0 1.0 1.0\n",
      "running  P010\n",
      "dollar  P010 overall,normal,fast,large accuracy:  0.75 1.0 0.5 1.0\n",
      "running  P011\n",
      "dollar  P011 overall,normal,fast,large accuracy:  0.95 0.7 0.9 1.0\n",
      "running  P102\n",
      "dollar  P102 overall,normal,fast,large accuracy:  0.6 0.7 0.2 1.0\n",
      "running  P103\n",
      "dollar  P103 overall,normal,fast,large accuracy:  0.8500000000000001 0.7 0.8 0.9\n",
      "running  P104\n",
      "dollar  P104 overall,normal,fast,large accuracy:  0.6499999999999999 0.4 0.7 0.6\n",
      "running  P105\n",
      "dollar  P105 overall,normal,fast,large accuracy:  1.0 1.0 1.0 1.0\n",
      "running  P106\n",
      "dollar  P106 overall,normal,fast,large accuracy:  0.05 0.9 0.1 0.0\n",
      "running  P107\n",
      "dollar  P107 overall,normal,fast,large accuracy:  0.8 0.2 0.7 0.9\n",
      "running  P108\n",
      "dollar  P108 overall,normal,fast,large accuracy:  0.45 0.7 0.0 0.9\n",
      "running  P109\n",
      "dollar  P109 overall,normal,fast,large accuracy:  0.3 0.3 0.5 0.1\n",
      "running  P110\n",
      "dollar  P110 overall,normal,fast,large accuracy:  0.75 1.0 0.7 0.8\n",
      "running  P111\n",
      "dollar  P111 overall,normal,fast,large accuracy:  0.9 1.0 1.0 0.8\n",
      "running  P112\n",
      "dollar  P112 overall,normal,fast,large accuracy:  0.7 1.0 0.5 0.9\n",
      "running  P114\n",
      "dollar  P114 overall,normal,fast,large accuracy:  0.65 0.7 0.8 0.5\n",
      "running  P115\n",
      "dollar  P115 overall,normal,fast,large accuracy:  0.8 0.9 0.9 0.7\n",
      "running  P116\n",
      "dollar  P116 overall,normal,fast,large accuracy:  1.0 1.0 1.0 1.0\n",
      "running  P118\n",
      "dollar  P118 overall,normal,fast,large accuracy:  1.0 1.0 1.0 1.0\n",
      "running  P119\n",
      "dollar  P119 overall,normal,fast,large accuracy:  0.3 1.0 0.6 0.0\n",
      "running  P121\n",
      "dollar  P121 overall,normal,fast,large accuracy:  0.9 1.0 0.8 1.0\n",
      "running  P122\n",
      "dollar  P122 overall,normal,fast,large accuracy:  1.0 1.0 1.0 1.0\n",
      "running  P123\n",
      "dollar  P123 overall,normal,fast,large accuracy:  0.44999999999999996 0.1 0.7 0.2\n",
      "running  P124\n",
      "dollar  P124 overall,normal,fast,large accuracy:  0.5 0.3 0.7 0.3\n",
      "running  P125\n",
      "dollar  P125 overall,normal,fast,large accuracy:  1.0 1.0 1.0 1.0\n",
      "running  P126\n",
      "dollar  P126 overall,normal,fast,large accuracy:  0.05 1.0 0.1 0.0\n",
      "running  P127\n",
      "dollar  P127 overall,normal,fast,large accuracy:  0.0 0.0 0.0 0.0\n",
      "running  P128\n",
      "dollar  P128 overall,normal,fast,large accuracy:  1.0 1.0 1.0 1.0\n",
      "running  P132\n",
      "dollar  P132 overall,normal,fast,large accuracy:  0.95 1.0 1.0 0.9\n"
     ]
    }
   ],
   "source": [
    "df_rotate_accuracy = pd.DataFrame()\n",
    "\n",
    "for pID in pIDs_analogous:\n",
    "    print('running ',pID)\n",
    "    accuracies_dollar= dollar_rotate(pID,etype='rotate')\n",
    "    # accuracies_expert = expert_rotate(pID,etype='rotate')\n",
    "    # accuracies_vanillaNN = vanillaNN_rotate(pID,etype=\"rotate\")\n",
    "\n",
    "    accuracy = np.asarray([\n",
    "                            # [accuracies_vanillaNN,accuracies_vanillaNN,accuracies_vanillaNN,accuracies_vanillaNN,'vanillaNN'],\n",
    "                            [accuracies_dollar[0],accuracies_dollar[1],accuracies_dollar[2],accuracies_dollar[3],'dollar'],\n",
    "                            # [accuracies_expert[0],accuracies_expert[1],accuracies_expert[2],accuracies_expert[3],'expert']\n",
    "                            ])\n",
    "    df_temp = pd.DataFrame(accuracy,columns=['overall','normal','fast','large','algoType'])\n",
    "    if pID[1]=='1':\n",
    "        df_temp['ptype'] = 'disabled'\n",
    "    else:\n",
    "        df_temp['ptype'] = 'non-disabled'\n",
    "    df_temp['pID'] = pID\n",
    "    df_rotate_accuracy = df_rotate_accuracy.append(df_temp)\n",
    "df_rotate_accuracy['overall'] = df_rotate_accuracy.overall.astype(float)\n",
    "df_rotate_accuracy['normal'] = df_rotate_accuracy.normal.astype(float)\n",
    "df_rotate_accuracy['fast'] = df_rotate_accuracy.fast.astype(float)\n",
    "df_rotate_accuracy['large'] = df_rotate_accuracy.large.astype(float)\n",
    "df_rotate_accuracy.to_csv('data/rotate_algos_accuracy_3.csv')\n"
   ]
  },
  {
   "cell_type": "code",
   "execution_count": 2,
   "metadata": {},
   "outputs": [
    {
     "name": "stdout",
     "output_type": "stream",
     "text": [
      "non-disabled Unnamed: 0    0.00000\n",
      "test          0.88125\n",
      "normal        0.96250\n",
      "fast          0.87500\n",
      "large         0.88750\n",
      "dtype: float64\n",
      "disabled Unnamed: 0    0.000\n",
      "test          0.666\n",
      "normal        0.756\n",
      "fast          0.672\n",
      "large         0.660\n",
      "dtype: float64\n"
     ]
    },
    {
     "data": {
      "image/png": "[encoded data removed]",
      "text/plain": [
       "<Figure size 432x288 with 1 Axes>"
      ]
     },
     "metadata": {
      "needs_background": "light"
     },
     "output_type": "display_data"
    }
   ],
   "source": [
    "df_rotate_accuracy = pd.read_csv('data/rotate_algos_accuracy_3.csv')\n",
    "df_rotate_accuracy = df_rotate_accuracy.rename(columns={\"overall\":\"test\"})\n",
    "sns.boxplot(data=df_rotate_accuracy,x=\"algoType\",y=\"test\",hue=\"ptype\",hue_order=['disabled','non-disabled'])\n",
    "\n",
    "plt.title('rotate test accuracy')\n",
    "plt.ylabel('accuracy')\n",
    "\n",
    "for x in [\"non-disabled\",\"disabled\"]:\n",
    "    print(x,df_rotate_accuracy[df_rotate_accuracy[\"ptype\"]==x].mean())"
   ]
  },
  {
   "cell_type": "code",
   "execution_count": null,
   "metadata": {},
   "outputs": [
    {
     "name": "stdout",
     "output_type": "stream",
     "text": [
      "running  P001  which is  1  out of  18\n",
      "dollar  P001 train-test accuracy:  1.0 0.74\n",
      "running  P003  which is  2  out of  18\n",
      "dollar  P003 train-test accuracy:  1.0 0.72\n",
      "running  P004  which is  3  out of  18\n",
      "dollar  P004 train-test accuracy:  1.0 0.94\n",
      "running  P005  which is  4  out of  18\n",
      "dollar  P005 train-test accuracy:  1.0 0.84\n",
      "running  P006  which is  5  out of  18\n"
     ]
    },
    {
     "ename": "KeyboardInterrupt",
     "evalue": "",
     "output_type": "error",
     "traceback": [
      "\u001b[1;31m---------------------------------------------------------------------------\u001b[0m",
      "\u001b[1;31mKeyboardInterrupt\u001b[0m                         Traceback (most recent call last)",
      "\u001b[1;32m<ipython-input-3-4e643a728624>\u001b[0m in \u001b[0;36m<module>\u001b[1;34m\u001b[0m\n\u001b[0;32m      4\u001b[0m     \u001b[0mpIDs\u001b[0m \u001b[1;33m=\u001b[0m \u001b[0mnp\u001b[0m\u001b[1;33m.\u001b[0m\u001b[0mdelete\u001b[0m\u001b[1;33m(\u001b[0m\u001b[0mnp\u001b[0m\u001b[1;33m.\u001b[0m\u001b[0masarray\u001b[0m\u001b[1;33m(\u001b[0m\u001b[0mpIDs_standardized\u001b[0m\u001b[1;33m)\u001b[0m\u001b[1;33m,\u001b[0m\u001b[0mix\u001b[0m\u001b[1;33m)\u001b[0m\u001b[1;33m\u001b[0m\u001b[1;33m\u001b[0m\u001b[0m\n\u001b[0;32m      5\u001b[0m     \u001b[0mprint\u001b[0m\u001b[1;33m(\u001b[0m\u001b[1;34m\"running \"\u001b[0m\u001b[1;33m,\u001b[0m \u001b[0mpID\u001b[0m\u001b[1;33m,\u001b[0m \u001b[1;34m' which is '\u001b[0m\u001b[1;33m,\u001b[0m \u001b[0mix\u001b[0m\u001b[1;33m+\u001b[0m\u001b[1;36m1\u001b[0m\u001b[1;33m,\u001b[0m \u001b[1;34m' out of '\u001b[0m\u001b[1;33m,\u001b[0m \u001b[0mlen\u001b[0m\u001b[1;33m(\u001b[0m\u001b[0mpIDs_standardized\u001b[0m\u001b[1;33m)\u001b[0m\u001b[1;33m)\u001b[0m\u001b[1;33m\u001b[0m\u001b[1;33m\u001b[0m\u001b[0m\n\u001b[1;32m----> 6\u001b[1;33m     \u001b[0mtrain_dollar\u001b[0m\u001b[1;33m,\u001b[0m\u001b[0mtest_dollar\u001b[0m \u001b[1;33m=\u001b[0m \u001b[0mtrain_standardized\u001b[0m\u001b[1;33m(\u001b[0m\u001b[0mpIDs\u001b[0m\u001b[1;33m,\u001b[0m\u001b[1;33m[\u001b[0m\u001b[0mpID\u001b[0m\u001b[1;33m]\u001b[0m\u001b[1;33m,\u001b[0m\u001b[0malgoType\u001b[0m\u001b[1;33m=\u001b[0m\u001b[1;34m'dollar'\u001b[0m\u001b[1;33m)\u001b[0m\u001b[1;33m\u001b[0m\u001b[1;33m\u001b[0m\u001b[0m\n\u001b[0m\u001b[0;32m      7\u001b[0m     \u001b[1;31m# train_expert,test_expert = train_standardized(pIDs,[pID],algoType='expert')\u001b[0m\u001b[1;33m\u001b[0m\u001b[1;33m\u001b[0m\u001b[1;33m\u001b[0m\u001b[0m\n\u001b[0;32m      8\u001b[0m     \u001b[1;31m# train_vanilla,test_vanilla = train_standardized(pIDs,[pID],algoType='vanillaNN')\u001b[0m\u001b[1;33m\u001b[0m\u001b[1;33m\u001b[0m\u001b[1;33m\u001b[0m\u001b[0m\n",
      "\u001b[1;32md:\\Research\\biosignals-gesture-analysis\\2024_UIST_CodeOcean\\algorithms1.py\u001b[0m in \u001b[0;36mtrain_standardized\u001b[1;34m(pIDs_train, pIDs_test, algoType)\u001b[0m\n\u001b[0;32m    180\u001b[0m \u001b[1;33m\u001b[0m\u001b[0m\n\u001b[0;32m    181\u001b[0m     \u001b[1;32mif\u001b[0m \u001b[0malgoType\u001b[0m\u001b[1;33m==\u001b[0m\u001b[1;34m'dollar'\u001b[0m\u001b[1;33m:\u001b[0m\u001b[1;33m\u001b[0m\u001b[1;33m\u001b[0m\u001b[0m\n\u001b[1;32m--> 182\u001b[1;33m         \u001b[0mtrain_data\u001b[0m\u001b[1;33m,\u001b[0m\u001b[0mtest_data\u001b[0m\u001b[1;33m,\u001b[0m\u001b[0mdoll\u001b[0m\u001b[1;33m,\u001b[0m\u001b[0mtrain_accuracy\u001b[0m\u001b[1;33m,\u001b[0m\u001b[0mtest_accuracy\u001b[0m \u001b[1;33m=\u001b[0m \u001b[0mdollar\u001b[0m\u001b[1;33m(\u001b[0m\u001b[0mtrain_data\u001b[0m\u001b[1;33m,\u001b[0m\u001b[0mtest_data\u001b[0m\u001b[1;33m)\u001b[0m\u001b[1;33m\u001b[0m\u001b[1;33m\u001b[0m\u001b[0m\n\u001b[0m\u001b[0;32m    183\u001b[0m         \u001b[0mprint\u001b[0m\u001b[1;33m(\u001b[0m\u001b[1;34m\"dollar \"\u001b[0m\u001b[1;33m,\u001b[0m\u001b[0mpID\u001b[0m\u001b[1;33m,\u001b[0m\u001b[1;34m\"train-test accuracy: \"\u001b[0m\u001b[1;33m,\u001b[0m \u001b[0mtrain_accuracy\u001b[0m\u001b[1;33m,\u001b[0m\u001b[0mtest_accuracy\u001b[0m\u001b[1;33m)\u001b[0m\u001b[1;33m\u001b[0m\u001b[1;33m\u001b[0m\u001b[0m\n\u001b[0;32m    184\u001b[0m         \u001b[0mtest_data\u001b[0m\u001b[1;33m.\u001b[0m\u001b[0mto_csv\u001b[0m\u001b[1;33m(\u001b[0m\u001b[0mclassifier_save\u001b[0m \u001b[1;33m+\u001b[0m \u001b[0mpIDs_test\u001b[0m\u001b[1;33m[\u001b[0m\u001b[1;36m0\u001b[0m\u001b[1;33m]\u001b[0m\u001b[1;33m+\u001b[0m\u001b[1;34m'dollar_test_classifications.csv'\u001b[0m\u001b[1;33m)\u001b[0m\u001b[1;33m\u001b[0m\u001b[1;33m\u001b[0m\u001b[0m\n",
      "\u001b[1;32md:\\Research\\biosignals-gesture-analysis\\2024_UIST_CodeOcean\\algorithms1.py\u001b[0m in \u001b[0;36mdollar\u001b[1;34m(templates, test_data)\u001b[0m\n\u001b[0;32m     67\u001b[0m         \u001b[0mtemplates_for_dollar\u001b[0m\u001b[1;33m.\u001b[0m\u001b[0mappend\u001b[0m\u001b[1;33m(\u001b[0m\u001b[1;33m(\u001b[0m\u001b[1;33m[\u001b[0m\u001b[0mtemplates\u001b[0m\u001b[1;33m.\u001b[0m\u001b[0mmotion\u001b[0m\u001b[1;33m.\u001b[0m\u001b[0miloc\u001b[0m\u001b[1;33m[\u001b[0m\u001b[0mt\u001b[0m\u001b[1;33m]\u001b[0m\u001b[1;33m,\u001b[0m\u001b[1;33m[\u001b[0m\u001b[0mdeepcopy\u001b[0m\u001b[1;33m(\u001b[0m\u001b[0mEMG\u001b[0m\u001b[1;33m)\u001b[0m\u001b[1;33m,\u001b[0m\u001b[0mdeepcopy\u001b[0m\u001b[1;33m(\u001b[0m\u001b[0mIMU\u001b[0m\u001b[1;33m)\u001b[0m\u001b[1;33m]\u001b[0m\u001b[1;33m]\u001b[0m\u001b[1;33m)\u001b[0m\u001b[1;33m)\u001b[0m\u001b[1;33m\u001b[0m\u001b[1;33m\u001b[0m\u001b[0m\n\u001b[0;32m     68\u001b[0m         \u001b[1;32mdel\u001b[0m \u001b[0mEMG\u001b[0m\u001b[1;33m,\u001b[0m \u001b[0mIMU\u001b[0m\u001b[1;33m\u001b[0m\u001b[1;33m\u001b[0m\u001b[0m\n\u001b[1;32m---> 69\u001b[1;33m         \u001b[0mgc\u001b[0m\u001b[1;33m.\u001b[0m\u001b[0mcollect\u001b[0m\u001b[1;33m(\u001b[0m\u001b[1;33m)\u001b[0m\u001b[1;33m\u001b[0m\u001b[1;33m\u001b[0m\u001b[0m\n\u001b[0m\u001b[0;32m     70\u001b[0m \u001b[1;33m\u001b[0m\u001b[0m\n\u001b[0;32m     71\u001b[0m     \u001b[0mtemplates_for_dollar\u001b[0m \u001b[1;33m=\u001b[0m \u001b[0mnp\u001b[0m\u001b[1;33m.\u001b[0m\u001b[0masarray\u001b[0m\u001b[1;33m(\u001b[0m\u001b[0mtemplates_for_dollar\u001b[0m\u001b[1;33m,\u001b[0m\u001b[0mdtype\u001b[0m\u001b[1;33m=\u001b[0m\u001b[0mobject\u001b[0m\u001b[1;33m)\u001b[0m\u001b[1;33m\u001b[0m\u001b[1;33m\u001b[0m\u001b[0m\n",
      "\u001b[1;31mKeyboardInterrupt\u001b[0m: "
     ]
    }
   ],
   "source": [
    "df_standardized = pd.DataFrame()\n",
    "\n",
    "for ix,pID in enumerate(pIDs_standardized):\n",
    "    pIDs = np.delete(np.asarray(pIDs_standardized),ix)\n",
    "    print(\"running \", pID, ' which is ', ix+1, ' out of ', len(pIDs_standardized))\n",
    "    train_dollar,test_dollar = train_standardized(pIDs,[pID],algoType='dollar')\n",
    "    # train_expert,test_expert = train_standardized(pIDs,[pID],algoType='expert')\n",
    "    # train_vanilla,test_vanilla = train_standardized(pIDs,[pID],algoType='vanillaNN')\n",
    "    # break;\n",
    "    accuracy = np.asarray([\n",
    "                        # [train_vanilla,test_vanilla,'vanillaNN'],\n",
    "                        [train_dollar,test_dollar,'dollar'],\n",
    "                        # [train_expert,test_expert,'expert']\n",
    "                        ])\n",
    "    df_temp = pd.DataFrame(accuracy,columns=['train','test','algoType'])\n",
    "    if pID[1]=='1':\n",
    "        df_temp['ptype'] = 'disabled'\n",
    "    else:\n",
    "        df_temp['ptype'] = 'non-disabled'\n",
    "    df_temp['pID'] = pID\n",
    "    df_standardized = df_standardized.append(df_temp)\n",
    "    gc.collect() # try to clear memory    \n",
    "df_standardized['train'] = df_standardized.train.astype(float)\n",
    "df_standardized['test'] = df_standardized.test.astype(float)\n",
    "df_standardized.to_csv(temp_path+'standardized/standardized_algos_accuracy_3.csv')"
   ]
  },
  {
   "cell_type": "code",
   "execution_count": null,
   "metadata": {},
   "outputs": [
    {
     "data": {
      "text/plain": [
       "Text(0, 0.5, 'accuracy')"
      ]
     },
     "execution_count": 9,
     "metadata": {},
     "output_type": "execute_result"
    },
    {
     "data": {
      "image/png": "[encoded data removed]",
      "text/plain": [
       "<Figure size 432x288 with 1 Axes>"
      ]
     },
     "metadata": {
      "needs_background": "light"
     },
     "output_type": "display_data"
    }
   ],
   "source": [
    "df_standardized = pd.read_csv(temp_path+'standardized/standardized_algos_accuracy_3.csv')\n",
    "# temp = pd.melt(df_accuracy,id_vars=['ptype','algoType'],value_vars=['train','test'])\n",
    "# display(temp.head())\n",
    "sns.boxplot(data=df_standardized,x=\"algoType\",y=\"test\",hue=\"ptype\",hue_order=['disabled','non-disabled'])\n",
    "plt.title('leave one out standardized')\n",
    "plt.ylabel('accuracy')"
   ]
  },
  {
   "cell_type": "markdown",
   "metadata": {},
   "source": [
    "## plot all together"
   ]
  },
  {
   "cell_type": "code",
   "execution_count": null,
   "metadata": {},
   "outputs": [
    {
     "data": {
      "text/plain": [
       "Text(0, 0.5, '')"
      ]
     },
     "execution_count": 10,
     "metadata": {},
     "output_type": "execute_result"
    },
    {
     "data": {
      "image/png": "[encoded data removed]",
      "text/plain": [
       "<Figure size 1080x504 with 3 Axes>"
      ]
     },
     "metadata": {
      "needs_background": "light"
     },
     "output_type": "display_data"
    }
   ],
   "source": [
    "fig,[ax1,ax2,ax3] = plt.subplots(1,3,sharex=True,sharey=True,figsize=(15,7))\n",
    "\n",
    "# plot baseline\n",
    "sns.boxplot(data=df_accuracy,x=\"algoType\",y=\"test\",hue=\"ptype\",hue_order=['disabled','non-disabled'],ax=ax1)\n",
    "\n",
    "ax1.set_title('baseline test accuracy')\n",
    "ax1.set_ylabel('accuracy')\n",
    "\n",
    "# plot rotate\n",
    "sns.boxplot(data=df_rotate_accuracy,x=\"algoType\",y=\"test\",hue=\"ptype\",hue_order=['disabled','non-disabled'],ax=ax2)\n",
    "ax2.set_title('rotate test accuracy')\n",
    "ax2.set_ylabel(\"\")\n",
    "\n",
    "# plot standardized\n",
    "sns.boxplot(data=df_standardized,x=\"algoType\",y=\"test\",hue=\"ptype\",hue_order=['disabled','non-disabled'],ax=ax3)\n",
    "ax3.set_title('leave one out standardized')\n",
    "plt.suptitle('PCA with 50 components on transformed axes')\n",
    "ax3.set_ylabel(\"\")"
   ]
  },
  {
   "cell_type": "markdown",
   "metadata": {},
   "source": [
    "# remove folders"
   ]
  },
  {
   "cell_type": "code",
   "execution_count": 4,
   "metadata": {},
   "outputs": [
    {
     "name": "stdout",
     "output_type": "stream",
     "text": [
      "Was not able to open the participant IDs\n"
     ]
    },
    {
     "ename": "NameError",
     "evalue": "name 'pIDs_all' is not defined",
     "output_type": "error",
     "traceback": [
      "\u001b[1;31m---------------------------------------------------------------------------\u001b[0m",
      "\u001b[1;31mNameError\u001b[0m                                 Traceback (most recent call last)",
      "\u001b[1;32m<ipython-input-4-a3833ec73a3b>\u001b[0m in \u001b[0;36m<module>\u001b[1;34m\u001b[0m\n\u001b[0;32m      8\u001b[0m \u001b[1;33m\u001b[0m\u001b[0m\n\u001b[0;32m      9\u001b[0m \u001b[0mp\u001b[0m \u001b[1;33m=\u001b[0m \u001b[1;34m\"C:/Users/yamag/Box/Research/Data/$M data segmented/segmented_filtered_data/\"\u001b[0m\u001b[1;33m\u001b[0m\u001b[1;33m\u001b[0m\u001b[0m\n\u001b[1;32m---> 10\u001b[1;33m \u001b[1;32mfor\u001b[0m \u001b[0mpID\u001b[0m \u001b[1;32min\u001b[0m \u001b[0mpIDs_all\u001b[0m\u001b[1;33m:\u001b[0m\u001b[1;33m\u001b[0m\u001b[1;33m\u001b[0m\u001b[0m\n\u001b[0m\u001b[0;32m     11\u001b[0m     \u001b[0mfolders\u001b[0m \u001b[1;33m=\u001b[0m \u001b[0mglob\u001b[0m\u001b[1;33m.\u001b[0m\u001b[0mglob\u001b[0m\u001b[1;33m(\u001b[0m\u001b[0mp\u001b[0m\u001b[1;33m+\u001b[0m\u001b[0mpID\u001b[0m\u001b[1;33m+\u001b[0m\u001b[1;34m\"/*\"\u001b[0m\u001b[1;33m)\u001b[0m\u001b[1;33m\u001b[0m\u001b[1;33m\u001b[0m\u001b[0m\n\u001b[0;32m     12\u001b[0m     \u001b[1;32mfor\u001b[0m \u001b[0mfolder\u001b[0m \u001b[1;32min\u001b[0m \u001b[0mfolders\u001b[0m\u001b[1;33m:\u001b[0m\u001b[1;33m\u001b[0m\u001b[1;33m\u001b[0m\u001b[0m\n",
      "\u001b[1;31mNameError\u001b[0m: name 'pIDs_all' is not defined"
     ]
    }
   ],
   "source": [
    "# import shutil\n",
    "# try:\n",
    "#     with open('data/participants.pickle', 'rb') as handle:\n",
    "#         _, pIDs_personalized,pIDs_standardized,pIDs_analogous,pIDs_all = pickle.load(handle)\n",
    "# except:\n",
    "#     print(\"Was not able to open the participant IDs\")\n",
    "#     pass;\n",
    "\n",
    "# p = \"C:/Users/yamag/Box/Research/Data/$M data segmented/segmented_filtered_data/\"\n",
    "# for pID in pIDs_all:\n",
    "#     folders = glob.glob(p+pID+\"/*\")\n",
    "#     for folder in folders:\n",
    "#         f = folder.split(\"\\\\\")[-1]\n",
    "#         if f==\"experimenter-only\" or f ==\"rotate\":\n",
    "#             shutil.rmtree(folder)"
   ]
  },
  {
   "cell_type": "code",
   "execution_count": null,
   "metadata": {},
   "outputs": [],
   "source": []
  }
 ],
 "metadata": {
  "kernelspec": {
   "display_name": "base",
   "language": "python",
   "name": "python3"
  },
  "language_info": {
   "codemirror_mode": {
    "name": "ipython",
    "version": 3
   },
   "file_extension": ".py",
   "mimetype": "text/x-python",
   "name": "python",
   "nbconvert_exporter": "python",
   "pygments_lexer": "ipython3",
   "version": "3.8.8"
  }
 },
 "nbformat": 4,
 "nbformat_minor": 2
}
