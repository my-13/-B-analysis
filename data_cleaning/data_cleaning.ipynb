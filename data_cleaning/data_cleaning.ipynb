{
 "cells": [
  {
   "cell_type": "code",
   "execution_count": 1,
   "id": "76f586d3-d002-4b7a-8f68-e88103a59332",
   "metadata": {},
   "outputs": [
    {
     "name": "stdout",
     "output_type": "stream",
     "text": [
      "Was not able to open the participant IDs\n"
     ]
    }
   ],
   "source": [
    "import sys\n",
    "sys.path.append(\"..\")\n",
    "from globals import *\n",
    "\n",
    "from support import read_and_save_cleaned_data,extract_vanillaNN_features,extract_expert_features,extract_dollar_features\n",
    "\n",
    "with open('../data/participants.pickle', 'rb') as handle:\n",
    "    _, pIDs_personalized,pIDs_standardized,pIDs_analogous,pIDs_all = pickle.load(handle)"
   ]
  },
  {
   "cell_type": "markdown",
   "id": "fa57c621",
   "metadata": {},
   "source": [
    "# segment gestures and save raw data to files\n",
    "\n",
    "- ```pIDs_exptr_only``` = all participants who performed the ``personalized'' gestures\n",
    "- ```pIDs_standardized``` = all participants who performed the ``standardized'' gestures\n",
    "- ```pIDs_rotate``` = all participants who performed the ``analogous'' gestures\n",
    "- ```pIDs_all``` = all participants involved in this study \n",
    "\n",
    "- save as CSV\n",
    "\n",
    "https://physionet.org/about/publish/#author_guidelines"
   ]
  },
  {
   "cell_type": "code",
   "execution_count": 2,
   "id": "031ed7dc",
   "metadata": {},
   "outputs": [],
   "source": [
    "# # EXTRACT AUTOMATED SEGMENTATION TIMES FROM CSV FILE\n",
    "# for pID in pIDs_all:\n",
    "#     # read in the segmentation data\n",
    "#     activity_cutoffs = pd.read_csv('C:/Users/yamag/Box/Research/Data/UW biosignal gesture study/segmentation/segmentation_csv_with_rehab/'+pID+\".csv\")\n",
    "#     activity_cutoffs = activity_cutoffs[activity_cutoffs[\"remove\"] == False].reset_index(drop=True)\n",
    "\n",
    "#     # read in the filenames\n",
    "#     pID_data = pd.read_csv('D:/Research/2024_UIST_dataset/upload/fnames/'+pID+\"_fnames.csv\",index_col=0)\n",
    "#     # display(pID_data.head())\n",
    "#     fnames = pID_data['fname_EMG'].values\n",
    "#     start_times = []\n",
    "#     stop_times = []\n",
    "#     for filename in fnames:\n",
    "#         activity_cutoffs_file = activity_cutoffs[activity_cutoffs['file'] == filename].reset_index(drop=True)\n",
    "#         start = activity_cutoffs_file[activity_cutoffs_file[\"start\"] == True].reset_index()\n",
    "#         stop = activity_cutoffs_file[activity_cutoffs_file[\"stop\"] == True].reset_index()\n",
    "\n",
    "#         # if there are no start or end times, that means no segmentation should occur\n",
    "#         # if override (or whatever you end up calling it) then override that with any other value\n",
    "#         if len(start) == 0:\n",
    "#             start_time = np.nan\n",
    "#         # elif len(np.where(start[\"override\"] == True)[0] > 0):\n",
    "#         #     start_time = start.loc[np.where(start[\"override\"] == True)[0][0], \"time_start_window\"]\n",
    "#         else:\n",
    "#             start_time = start[\"time_start_window\"].min()\n",
    "\n",
    "#         if len(stop) == 0:\n",
    "#             stop_time = np.nan\n",
    "#         # elif len(np.where(stop[\"override\"] == True)[0] > 0):\n",
    "#         #     stop_time = stop.loc[np.where(stop[\"override\"] == True)[0][0], \"time_end_window\"]\n",
    "#         else:\n",
    "#             stop_time = stop[\"time_end_window\"].max()\n",
    "#         start_times.append(start_time)\n",
    "#         stop_times.append(stop_time)\n",
    "#     pID_data[\"start_times\"] = start_times\n",
    "#     pID_data[\"stop_times\"] = stop_times\n",
    "#     pID_data.to_csv('D:/Research/2024_UIST_dataset/fnames_with-segmentation/'+pID+\"_fnames.csv\")"
   ]
  },
  {
   "cell_type": "code",
   "execution_count": 3,
   "id": "20428e05",
   "metadata": {},
   "outputs": [],
   "source": [
    "# IMU_colnames = []\n",
    "# imu_types = [\"ax\",\"ay\",\"az\",\"vx\",\"vy\",\"vz\"]\n",
    "# # for ix in range(72):\n",
    "# for iy in [1,2,3,4,5,6,7,8,9,11,13,15]:\n",
    "#     for iz in range(len(imu_types)):\n",
    "#         # print(\"IMU\"+str(int(iy))+\"_\"+imu_types[iz])\n",
    "#         IMU_colnames.append(\"IMU\"+str(int(iy))+\"_\"+imu_types[iz])"
   ]
  },
  {
   "cell_type": "code",
   "execution_count": 4,
   "id": "7557dc3b",
   "metadata": {},
   "outputs": [],
   "source": [
    "# # SEGMENT THE ACTUAL DATA\n",
    "\n",
    "# fs_EMG = 2000\n",
    "# fs_IMU = 148.148\n",
    "# for pID in pIDs_all:\n",
    "#     # read in the filenames\n",
    "#     pID_data = pd.read_csv('D:/Research/2024_UIST_dataset/fnames_with-segmentation/'+pID+\"_fnames.csv\",index_col=0)\n",
    "\n",
    "#     # EMG_fnames = pID_data['fname_EMG'].values\n",
    "#     # IMU_fnames = pID_data['fname_IMU'].values\n",
    "#     path = global_path + ('with disability/' if pID[1]=='1' else 'without disability/') + pID + '/'\n",
    "#     for ix,row in pID_data.iterrows():\n",
    "#         EMG_fname = row.fname_EMG\n",
    "#         IMU_fname = row.fname_IMU\n",
    "#         start_time = row.start_times\n",
    "#         stop_time = row.stop_times\n",
    "#         df_EMG = pd.read_csv(path+EMG_fname,sep=\"\\t\",names=['EMG1','EMG2','EMG3','EMG4','EMG5',\n",
    "#                                                 'EMG6','EMG7','EMG8','EMG9','EMG10',\n",
    "#                                                 'EMG11','EMG12','EMG13','EMG14','EMG15',\n",
    "#                                                 'EMG16'],header=None)\n",
    "#         # check if EMG activity is doubled\n",
    "#         if df_EMG[\"EMG2\"].values[2]==df_EMG[\"EMG2\"].values[3]:\n",
    "#             df_EMG = df_EMG.iloc[::2, :] # participant has redundant EMG activity\n",
    "#             start_time = start_time/2\n",
    "#             stop_time = stop_time/2\n",
    "\n",
    "#         # check if start and stop are nans \n",
    "#         if math.isnan(start_time):\n",
    "#             start_time = 0\n",
    "#         if math.isnan(stop_time):\n",
    "#             stop_time = len(df_EMG)/fs_EMG\n",
    "\n",
    "#         df_EMG = df_EMG.iloc[int(np.floor(start_time*fs_EMG)):int(np.ceil(stop_time*fs_EMG))]\n",
    "#         df_EMG.reset_index(inplace=True,drop=True)\n",
    "#         # print(\"_\".join([EMG_fname.split(\"_\")[i] for i in [1,3,4,5]]))\n",
    "#         if not os.path.isdir('D:/Research/2024_UIST_dataset/upload/segmented_raw_data/'+pID):\n",
    "#             os.mkdir('D:/Research/2024_UIST_dataset/upload/segmented_raw_data/'+pID)\n",
    "#         df_EMG.to_csv('D:/Research/2024_UIST_dataset/upload/segmented_raw_data/'+pID+'/'+EMG_fname[:-4]+\".csv\")\n",
    "\n",
    "#         df_IMU = pd.read_csv(path+IMU_fname,sep=\"\\t\",header=None)\n",
    "#         # pull out relevant columns \n",
    "#         sensors = [1,2,3,4,5,6,7,8,9,11,13,15]\n",
    "#         cols = np.hstack([range(int((ix-1)*9),int(ix*9-3)) for ix in sensors])\n",
    "#         df_IMU = df_IMU[cols]\n",
    "#         df_IMU = df_IMU.iloc[int(np.floor(start_time*fs_IMU)):int(np.ceil(stop_time*fs_IMU))]\n",
    "#         df_IMU.reset_index(inplace=True,drop=True)\n",
    "#         df_IMU = df_IMU.set_axis([IMU_colnames],axis=1)\n",
    "#         df_IMU.to_csv('D:/Research/2024_UIST_dataset/upload/segmented_raw_data/'+pID+'/'+IMU_fname[:-4]+\".csv\")"
   ]
  },
  {
   "cell_type": "markdown",
   "id": "169c1b74",
   "metadata": {},
   "source": [
    "# filter EMG data for $M and vanilla NN"
   ]
  },
  {
   "cell_type": "code",
   "execution_count": 3,
   "id": "895f6c52",
   "metadata": {},
   "outputs": [],
   "source": [
    "for pID in pIDs_all:\n",
    "    read_and_save_cleaned_data(pID,extract_path)"
   ]
  },
  {
   "cell_type": "code",
   "execution_count": 10,
   "id": "0f3cab6d",
   "metadata": {},
   "outputs": [],
   "source": [
    "for pID in pIDs_all:\n",
    "    extract_dollar_features(pID)\n",
    "    # break;"
   ]
  },
  {
   "cell_type": "markdown",
   "id": "ba11bb76",
   "metadata": {},
   "source": [
    "# interpolate, stack, and save data for vanilla NN"
   ]
  },
  {
   "cell_type": "code",
   "execution_count": 7,
   "id": "e6778f8b",
   "metadata": {},
   "outputs": [],
   "source": [
    "# for pID in pIDs_all:\n",
    "#     extract_vanillaNN_features(pID)"
   ]
  },
  {
   "cell_type": "markdown",
   "id": "971dc219",
   "metadata": {},
   "source": [
    "# extract expert_features"
   ]
  },
  {
   "cell_type": "code",
   "execution_count": 8,
   "id": "e986aaea",
   "metadata": {},
   "outputs": [],
   "source": [
    "# for pID in pIDs_all:\n",
    "#     extract_expert_features(pID)"
   ]
  },
  {
   "cell_type": "markdown",
   "id": "7887f880",
   "metadata": {},
   "source": [
    "# delete old folders"
   ]
  },
  {
   "cell_type": "code",
   "execution_count": 9,
   "id": "115b2b1d",
   "metadata": {},
   "outputs": [],
   "source": [
    "# import shutil\n",
    "# models_path = \"D:\\\\Research\\\\2024_UIST_dataset\\\\models\\\\\"\n",
    "# try:\n",
    "#     with open('data/participants.pickle', 'rb') as handle:\n",
    "#         _, pIDs_personalized,pIDs_standardized,pIDs_analogous,pIDs_all = pickle.load(handle)\n",
    "# except:\n",
    "#     print(\"Was not able to open the participant IDs\")\n",
    "#     pass;\n",
    "\n",
    "# p = models_path\n",
    "# for pID in pIDs_all:\n",
    "#     folders = glob.glob(p+pID+\"/rotate/\")\n",
    "#     print(folders)\n",
    "#     # for folder in folders:\n",
    "#     #     f = folder.split(\"\\\\\")[-1]\n",
    "#     #     if f==\"vanillaNN_files\":# or f ==\"rotate\":\n",
    "#     #         shutil.rmtree(folder)\n",
    "#     #     else:\n",
    "#     #         pass;\n"
   ]
  },
  {
   "cell_type": "code",
   "execution_count": null,
   "id": "b5a2dbdf",
   "metadata": {},
   "outputs": [],
   "source": []
  }
 ],
 "metadata": {
  "kernelspec": {
   "display_name": "base",
   "language": "python",
   "name": "python3"
  },
  "language_info": {
   "codemirror_mode": {
    "name": "ipython",
    "version": 3
   },
   "file_extension": ".py",
   "mimetype": "text/x-python",
   "name": "python",
   "nbconvert_exporter": "python",
   "pygments_lexer": "ipython3",
   "version": "3.8.8"
  }
 },
 "nbformat": 4,
 "nbformat_minor": 5
}
